{
  "nbformat": 4,
  "nbformat_minor": 0,
  "metadata": {
    "colab": {
      "provenance": [],
      "authorship_tag": "ABX9TyPAFO/cmCguThzmrXZZli1+",
      "include_colab_link": true
    },
    "kernelspec": {
      "name": "python3",
      "display_name": "Python 3"
    },
    "language_info": {
      "name": "python"
    }
  },
  "cells": [
    {
      "cell_type": "markdown",
      "metadata": {
        "id": "view-in-github",
        "colab_type": "text"
      },
      "source": [
        "<a href=\"https://colab.research.google.com/github/darppan/soc2024/blob/master/plot2animation.ipynb\" target=\"_parent\"><img src=\"https://colab.research.google.com/assets/colab-badge.svg\" alt=\"Open In Colab\"/></a>"
      ]
    },
    {
      "cell_type": "code",
      "source": [
        "from google.colab import drive\n",
        "drive.mount('/content/drive')"
      ],
      "metadata": {
        "colab": {
          "base_uri": "https://localhost:8080/"
        },
        "id": "XH7tlaosGClV",
        "outputId": "00555b1e-61a6-48b5-f949-acfd6c6ebe86"
      },
      "execution_count": null,
      "outputs": [
        {
          "output_type": "stream",
          "name": "stdout",
          "text": [
            "Mounted at /content/drive\n"
          ]
        }
      ]
    },
    {
      "cell_type": "code",
      "source": [
        "%cd /content/drive/MyDrive/Colab Notebooks/giffile/"
      ],
      "metadata": {
        "colab": {
          "base_uri": "https://localhost:8080/"
        },
        "id": "lRt_W81iGK5h",
        "outputId": "7d37d2b3-6af6-437b-b90e-282281b7b1e5"
      },
      "execution_count": null,
      "outputs": [
        {
          "output_type": "stream",
          "name": "stdout",
          "text": [
            "/content/drive/MyDrive/Colab Notebooks/giffile\n"
          ]
        }
      ]
    },
    {
      "cell_type": "code",
      "execution_count": null,
      "metadata": {
        "colab": {
          "base_uri": "https://localhost:8080/",
          "height": 1000
        },
        "id": "qFCBfEGbF5yR",
        "outputId": "0a31d747-5a40-4bff-9e42-0e564749889b"
      },
      "outputs": [
        {
          "output_type": "stream",
          "name": "stdout",
          "text": [
            "000100\n",
            "001100\n",
            "002100\n",
            "003100\n",
            "004100\n",
            "005100\n",
            "006100\n",
            "007100\n",
            "008100\n",
            "009100\n",
            "010100\n",
            "011100\n",
            "012100\n",
            "013100\n",
            "014100\n",
            "015100\n",
            "016100\n",
            "017100\n",
            "018100\n",
            "019100\n",
            "020100\n",
            "021100\n",
            "022100\n",
            "023100\n",
            "024100\n",
            "025100\n",
            "026100\n",
            "027100\n",
            "028100\n",
            "029100\n",
            "030100\n",
            "031100\n",
            "032100\n",
            "033100\n",
            "034100\n",
            "035100\n",
            "036100\n",
            "037100\n",
            "038100\n",
            "039100\n",
            "040100\n",
            "041100\n",
            "042100\n",
            "043100\n",
            "044100\n",
            "045100\n",
            "046100\n",
            "047100\n",
            "048100\n",
            "049100\n",
            "050100\n",
            "051100\n",
            "052100\n",
            "053100\n",
            "054100\n",
            "055100\n",
            "056100\n",
            "057100\n",
            "058100\n",
            "059100\n",
            "060100\n",
            "061100\n",
            "062100\n",
            "063100\n",
            "064100\n",
            "065100\n",
            "066100\n",
            "067100\n",
            "068100\n",
            "069100\n",
            "070100\n",
            "071100\n",
            "072100\n",
            "073100\n",
            "074100\n",
            "075100\n",
            "076100\n",
            "077100\n",
            "078100\n",
            "079100\n",
            "080100\n",
            "081100\n",
            "082100\n",
            "083100\n",
            "084100\n",
            "085100\n",
            "086100\n",
            "087100\n",
            "088100\n",
            "089100\n",
            "090100\n",
            "091100\n",
            "092100\n",
            "093100\n",
            "094100\n",
            "095100\n",
            "096100\n",
            "097100\n",
            "098100\n",
            "099100\n"
          ]
        },
        {
          "output_type": "stream",
          "name": "stderr",
          "text": [
            "WARNING:matplotlib.animation:MovieWriter imagemagick unavailable; using Pillow instead.\n"
          ]
        },
        {
          "output_type": "display_data",
          "data": {
            "text/plain": [
              "<Figure size 640x480 with 2 Axes>"
            ],
            "image/png": "[encoded data removed]"
          },
          "metadata": {}
        }
      ],
      "source": [
        "import numpy as np\n",
        "import matplotlib.pyplot as plt\n",
        "import matplotlib.animation as animation\n",
        "import glob\n",
        "\n",
        "# Parameters\n",
        "L = 100  # Lattice size\n",
        "# Define the range and step\n",
        "start = 100\n",
        "end = 100000\n",
        "step = 1000\n",
        "\n",
        "# Create the array\n",
        "numbers = np.arange(start, end + 1, step)\n",
        "\n",
        "# Format each number to be six digits with leading zeros\n",
        "save_steps = [f\"{num:06}\" for num in numbers]\n",
        "for number in save_steps:\n",
        "    print(number)\n",
        "# print(save_steps[-1])\n",
        "\n",
        "\n",
        "file_pattern = \"datafile_*.txt\"  # File pattern to match saved lattice files\n",
        "\n",
        "# Load all the saved lattice files into a list of arrays\n",
        "lattices = []\n",
        "for step in save_steps:\n",
        "    filename = f\"datafile_{step}.txt\"\n",
        "    lattice = np.loadtxt(filename, dtype=int)\n",
        "    lattices.append(lattice)\n",
        "\n",
        "# Set up the figure and axis\n",
        "fig, ax = plt.subplots()\n",
        "cax = ax.matshow(lattices[0], cmap='coolwarm')\n",
        "fig.colorbar(cax)\n",
        "\n",
        "def update(frame):\n",
        "    ax.clear()\n",
        "    cax = ax.matshow(lattices[frame], cmap='coolwarm')\n",
        "    ax.set_title(f'Step: {save_steps[frame]}')\n",
        "    return cax,\n",
        "\n",
        "# Create the animation\n",
        "ani = animation.FuncAnimation(fig, update, frames=len(lattices), blit=True, repeat=False)\n",
        "\n",
        "# Save the animation as a GIF\n",
        "ani.save('ising_model_animation_step1000.gif', writer='imagemagick')\n",
        "\n",
        "plt.show()\n"
      ]
    },
    {
      "cell_type": "code",
      "source": [],
      "metadata": {
        "id": "maeYPrScZ3_n"
      },
      "execution_count": null,
      "outputs": []
    }
  ]
}